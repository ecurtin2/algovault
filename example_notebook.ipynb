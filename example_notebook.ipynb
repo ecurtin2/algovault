{
 "cells": [
  {
   "cell_type": "code",
   "execution_count": 1,
   "metadata": {
    "execution": {
     "iopub.execute_input": "2022-12-23T17:57:51.677727Z",
     "iopub.status.busy": "2022-12-23T17:57:51.675929Z",
     "iopub.status.idle": "2022-12-23T17:57:51.689963Z",
     "shell.execute_reply": "2022-12-23T17:57:51.689378Z"
    }
   },
   "outputs": [],
   "source": [
    "import algovault"
   ]
  }
 ],
 "metadata": {
  "kernelspec": {
   "display_name": "Python 3",
   "language": "python",
   "name": "python3"
  },
  "language_info": {
   "codemirror_mode": {
    "name": "ipython",
    "version": 3
   },
   "file_extension": ".py",
   "mimetype": "text/x-python",
   "name": "python",
   "nbconvert_exporter": "python",
   "pygments_lexer": "ipython3",
   "version": "3.11.1"
  },
  "vscode": {
   "interpreter": {
    "hash": "949777d72b0d2535278d3dc13498b2535136f6dfe0678499012e853ee9abcab1"
   }
  }
 },
 "nbformat": 4,
 "nbformat_minor": 2
}
